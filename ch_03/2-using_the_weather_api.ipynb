{
 "cells": [
  {
   "cell_type": "markdown",
   "metadata": {},
   "source": [
    "# Collecting temperature data from an API\n",
    "\n",
    "## About the data\n",
    "In this notebook, we will be collecting daily temperature data from the [National Centers for Environmental Information (NCEI) API](https://www.ncdc.noaa.gov/cdo-web/webservices/v2). We will use the Global Historical Climatology Network - Daily (GHCND) data set; see the documentation [here](https://www1.ncdc.noaa.gov/pub/data/cdo/documentation/GHCND_documentation.pdf).\n",
    "\n",
    "*Note: The NCEI is part of the National Oceanic and Atmospheric Administration (NOAA) and, as you can see from the URL for the API, this resource was created when the NCEI was called the NCDC. Should the URL for this resource change in the future, you can search for the NCEI weather API to find the updated one.*\n",
    "\n",
    "## Using the NCEI API\n",
    "Paste your token below."
   ]
  },
  {
   "cell_type": "code",
   "execution_count": 36,
   "metadata": {
    "ExecuteTime": {
     "end_time": "2022-06-20T12:30:46.028348Z",
     "start_time": "2022-06-20T12:30:46.021892Z"
    }
   },
   "outputs": [],
   "source": [
    "import requests\n",
    "\n",
    "def make_request(endpoint, payload=None):\n",
    "    \"\"\"\n",
    "    Make a request to a specific endpoint on the weather API\n",
    "    passing headers and optional payload.\n",
    "    \n",
    "    Parameters:\n",
    "        - endpoint: The endpoint of the API you want to \n",
    "                    make a GET request to.\n",
    "        - payload: A dictionary of data to pass along \n",
    "                   with the request.\n",
    "    \n",
    "    Returns:\n",
    "        Response object.\n",
    "    \"\"\"\n",
    "    return requests.get(\n",
    "        f'https://www.ncdc.noaa.gov/cdo-web/api/v2/{endpoint}',\n",
    "        headers={\n",
    "            'token': 'BLCJktYyZmRiVTHlgmzFagKUPkAGUyOA'\n",
    "        },\n",
    "        params=payload\n",
    "    )"
   ]
  },
  {
   "cell_type": "markdown",
   "metadata": {},
   "source": [
    "## See what datasets are available\n",
    "We can make requests to the `datasets` endpoint to see what datasets are available. We also pass in a dictionary for the payload to get datsets that have data after the start date of October 1, 2018."
   ]
  },
  {
   "cell_type": "code",
   "execution_count": 37,
   "metadata": {
    "ExecuteTime": {
     "end_time": "2022-06-20T12:30:49.389797Z",
     "start_time": "2022-06-20T12:30:46.500682Z"
    }
   },
   "outputs": [
    {
     "data": {
      "text/plain": [
       "200"
      ]
     },
     "execution_count": 37,
     "metadata": {},
     "output_type": "execute_result"
    }
   ],
   "source": [
    "# see what datasets are available\n",
    "response = make_request('datasets', {'startdate':'2018-10-01'})\n",
    "response.status_code"
   ]
  },
  {
   "cell_type": "markdown",
   "metadata": {},
   "source": [
    "Status code of `200` means everything is OK. More codes can be found [here](https://en.wikipedia.org/wiki/List_of_HTTP_status_codes).\n",
    "\n",
    "### Get the keys of the result\n",
    "The result is a JSON object which we can access with the `json()` method of our `Response` object. JSON objects can be treated like dictionaries, so we can access the `keys()` just like we would a dictionary:"
   ]
  },
  {
   "cell_type": "code",
   "execution_count": 38,
   "metadata": {
    "ExecuteTime": {
     "end_time": "2022-06-20T12:30:49.425715Z",
     "start_time": "2022-06-20T12:30:49.397101Z"
    }
   },
   "outputs": [
    {
     "data": {
      "text/plain": [
       "dict_keys(['metadata', 'results'])"
      ]
     },
     "execution_count": 38,
     "metadata": {},
     "output_type": "execute_result"
    }
   ],
   "source": [
    "response.json().keys()"
   ]
  },
  {
   "cell_type": "markdown",
   "metadata": {},
   "source": [
    "The `metadata` of the JSON response will tell us information about the request and data we got back:"
   ]
  },
  {
   "cell_type": "code",
   "execution_count": 39,
   "metadata": {
    "ExecuteTime": {
     "end_time": "2022-06-20T12:30:49.476298Z",
     "start_time": "2022-06-20T12:30:49.464481Z"
    }
   },
   "outputs": [
    {
     "data": {
      "text/plain": [
       "{'resultset': {'offset': 1, 'count': 11, 'limit': 25}}"
      ]
     },
     "execution_count": 39,
     "metadata": {},
     "output_type": "execute_result"
    }
   ],
   "source": [
    "response.json()['metadata']"
   ]
  },
  {
   "cell_type": "markdown",
   "metadata": {},
   "source": [
    "### Figure out what data is in the result\n",
    "The `results` key contains the data we requested. This is a list of what would be rows in our dataframe. Each entry in the list is a dictionary, so we can look at the keys to get the fields:"
   ]
  },
  {
   "cell_type": "code",
   "execution_count": 40,
   "metadata": {
    "ExecuteTime": {
     "end_time": "2022-06-20T12:30:49.522515Z",
     "start_time": "2022-06-20T12:30:49.487570Z"
    }
   },
   "outputs": [
    {
     "data": {
      "text/plain": [
       "dict_keys(['uid', 'mindate', 'maxdate', 'name', 'datacoverage', 'id'])"
      ]
     },
     "execution_count": 40,
     "metadata": {},
     "output_type": "execute_result"
    }
   ],
   "source": [
    "response.json()['results'][0].keys()"
   ]
  },
  {
   "cell_type": "markdown",
   "metadata": {},
   "source": [
    "### Parse the result\n",
    "We don't want all those fields, so we will use a list comphrension to take only the `id` and `name` fields out:"
   ]
  },
  {
   "cell_type": "code",
   "execution_count": 41,
   "metadata": {
    "ExecuteTime": {
     "end_time": "2022-06-20T12:30:50.693502Z",
     "start_time": "2022-06-20T12:30:50.681314Z"
    }
   },
   "outputs": [
    {
     "data": {
      "text/plain": [
       "[('GHCND', 'Daily Summaries'),\n",
       " ('GSOM', 'Global Summary of the Month'),\n",
       " ('GSOY', 'Global Summary of the Year'),\n",
       " ('NEXRAD2', 'Weather Radar (Level II)'),\n",
       " ('NEXRAD3', 'Weather Radar (Level III)'),\n",
       " ('NORMAL_ANN', 'Normals Annual/Seasonal'),\n",
       " ('NORMAL_DLY', 'Normals Daily'),\n",
       " ('NORMAL_HLY', 'Normals Hourly'),\n",
       " ('NORMAL_MLY', 'Normals Monthly'),\n",
       " ('PRECIP_15', 'Precipitation 15 Minute'),\n",
       " ('PRECIP_HLY', 'Precipitation Hourly')]"
      ]
     },
     "execution_count": 41,
     "metadata": {},
     "output_type": "execute_result"
    }
   ],
   "source": [
    "[(data['id'], data['name']) for data in response.json()['results']]"
   ]
  },
  {
   "cell_type": "markdown",
   "metadata": {},
   "source": [
    "## Figure out which data category we want\n",
    "The `GHCND` data containing daily summaries is what we want. Now we need to make another request to figure out which data categories we want to collect. This is the `datacategories` endpoint. We have to pass the `datasetid` for `GHCND` as the payload so the API knows which dataset we are asking about:"
   ]
  },
  {
   "cell_type": "code",
   "execution_count": 42,
   "metadata": {
    "ExecuteTime": {
     "end_time": "2022-06-20T12:30:52.627279Z",
     "start_time": "2022-06-20T12:30:51.438226Z"
    }
   },
   "outputs": [
    {
     "data": {
      "text/plain": [
       "200"
      ]
     },
     "execution_count": 42,
     "metadata": {},
     "output_type": "execute_result"
    }
   ],
   "source": [
    "# get data category id\n",
    "response = make_request(\n",
    "    'datacategories',\n",
    "    payload={\n",
    "        'datasetid' : 'GHCND'\n",
    "    }\n",
    ")\n",
    "response.status_code"
   ]
  },
  {
   "cell_type": "markdown",
   "metadata": {},
   "source": [
    "Since we know the API gives us a `metadata` and a `results` key in each response, we can see what is in the `results` portion of the JSON response:"
   ]
  },
  {
   "cell_type": "code",
   "execution_count": 43,
   "metadata": {
    "ExecuteTime": {
     "end_time": "2022-06-20T12:30:52.653104Z",
     "start_time": "2022-06-20T12:30:52.633902Z"
    }
   },
   "outputs": [
    {
     "data": {
      "text/plain": [
       "[{'name': 'Evaporation', 'id': 'EVAP'},\n",
       " {'name': 'Land', 'id': 'LAND'},\n",
       " {'name': 'Precipitation', 'id': 'PRCP'},\n",
       " {'name': 'Sky cover & clouds', 'id': 'SKY'},\n",
       " {'name': 'Sunshine', 'id': 'SUN'},\n",
       " {'name': 'Air Temperature', 'id': 'TEMP'},\n",
       " {'name': 'Water', 'id': 'WATER'},\n",
       " {'name': 'Wind', 'id': 'WIND'},\n",
       " {'name': 'Weather Type', 'id': 'WXTYPE'}]"
      ]
     },
     "execution_count": 43,
     "metadata": {},
     "output_type": "execute_result"
    }
   ],
   "source": [
    "response.json()['results']"
   ]
  },
  {
   "cell_type": "markdown",
   "metadata": {},
   "source": [
    "## Grab the data type ID for the Temperature category\n",
    "We will be working with temperatures, so we want the `TEMP` data category. Now, we need to find the `datatypes` to collect. For this, we use the `datatypes` endpoint and provide the `datacategoryid` which was `TEMP`. We also specify a limit for the number of `datatypes` to return with the payload. If there are more than this we can make another request later, but for now, we just want to pick a few out:"
   ]
  },
  {
   "cell_type": "code",
   "execution_count": 44,
   "metadata": {
    "ExecuteTime": {
     "end_time": "2022-06-20T12:30:55.810913Z",
     "start_time": "2022-06-20T12:30:54.664695Z"
    }
   },
   "outputs": [
    {
     "data": {
      "text/plain": [
       "200"
      ]
     },
     "execution_count": 44,
     "metadata": {},
     "output_type": "execute_result"
    }
   ],
   "source": [
    "# get data type id\n",
    "response = make_request(\n",
    "    'datatypes',\n",
    "    payload={\n",
    "        'datacategoryid' : 'TEMP', \n",
    "        'limit' : 100\n",
    "    }\n",
    ")\n",
    "response.status_code"
   ]
  },
  {
   "cell_type": "markdown",
   "metadata": {},
   "source": [
    "We can grab the `id` and `name` fields for each of the entries in the `results` portion of the data. The fields we are interested in are at the bottom:"
   ]
  },
  {
   "cell_type": "code",
   "execution_count": 45,
   "metadata": {
    "ExecuteTime": {
     "end_time": "2022-06-20T12:30:55.854277Z",
     "start_time": "2022-06-20T12:30:55.817949Z"
    }
   },
   "outputs": [
    {
     "data": {
      "text/plain": [
       "[('MNTM', 'Monthly mean temperature'),\n",
       " ('TAVG', 'Average Temperature.'),\n",
       " ('TMAX', 'Maximum temperature'),\n",
       " ('TMIN', 'Minimum temperature'),\n",
       " ('TOBS', 'Temperature at the time of observation')]"
      ]
     },
     "execution_count": 45,
     "metadata": {},
     "output_type": "execute_result"
    }
   ],
   "source": [
    "[(datatype['id'], datatype['name']) for datatype in response.json()['results']][-5:] # look at the last 5"
   ]
  },
  {
   "cell_type": "code",
   "execution_count": 46,
   "metadata": {
    "ExecuteTime": {
     "end_time": "2022-06-20T12:31:10.434578Z",
     "start_time": "2022-06-20T12:31:10.402250Z"
    }
   },
   "outputs": [
    {
     "data": {
      "text/plain": [
       "[{'mindate': '1763-01-01',\n",
       "  'maxdate': '2022-05-01',\n",
       "  'name': 'Cooling Degree Days Season to Date',\n",
       "  'datacoverage': 1,\n",
       "  'id': 'CDSD'},\n",
       " {'mindate': '1863-05-04',\n",
       "  'maxdate': '2022-06-14',\n",
       "  'name': 'Number of days included in the multiday minimum temperature (MDTN)',\n",
       "  'datacoverage': 1,\n",
       "  'id': 'DATN'},\n",
       " {'mindate': '1863-05-04',\n",
       "  'maxdate': '2022-06-13',\n",
       "  'name': 'Number of days included in the multiday maximum temperature (MDTX)',\n",
       "  'datacoverage': 1,\n",
       "  'id': 'DATX'},\n",
       " {'mindate': '2010-01-01',\n",
       "  'maxdate': '2010-12-31',\n",
       "  'name': 'Long-term averages of daily diurnal temperature range',\n",
       "  'datacoverage': 1,\n",
       "  'id': 'DLY-DUTR-NORMAL'},\n",
       " {'mindate': '2010-01-01',\n",
       "  'maxdate': '2010-12-31',\n",
       "  'name': 'Long-term standard deviations of daily diurnal temperature range',\n",
       "  'datacoverage': 1,\n",
       "  'id': 'DLY-DUTR-STDDEV'},\n",
       " {'mindate': '2010-01-01',\n",
       "  'maxdate': '2010-12-31',\n",
       "  'name': 'Long-term averages of daily average temperature',\n",
       "  'datacoverage': 1,\n",
       "  'id': 'DLY-TAVG-NORMAL'},\n",
       " {'mindate': '2010-01-01',\n",
       "  'maxdate': '2010-12-31',\n",
       "  'name': 'Long-term standard deviations of daily average temperature',\n",
       "  'datacoverage': 1,\n",
       "  'id': 'DLY-TAVG-STDDEV'},\n",
       " {'mindate': '2010-01-01',\n",
       "  'maxdate': '2010-12-31',\n",
       "  'name': 'Long-term averages of daily maximum temperature',\n",
       "  'datacoverage': 1,\n",
       "  'id': 'DLY-TMAX-NORMAL'},\n",
       " {'mindate': '2010-01-01',\n",
       "  'maxdate': '2010-12-31',\n",
       "  'name': 'Long-term standard deviations of daily maximum temperature',\n",
       "  'datacoverage': 1,\n",
       "  'id': 'DLY-TMAX-STDDEV'},\n",
       " {'mindate': '2010-01-01',\n",
       "  'maxdate': '2010-12-31',\n",
       "  'name': 'Long-term averages of daily minimum temperature',\n",
       "  'datacoverage': 1,\n",
       "  'id': 'DLY-TMIN-NORMAL'},\n",
       " {'mindate': '2010-01-01',\n",
       "  'maxdate': '2010-12-31',\n",
       "  'name': 'Long-term standard deviations of daily minimum temperature',\n",
       "  'datacoverage': 1,\n",
       "  'id': 'DLY-TMIN-STDDEV'},\n",
       " {'mindate': '1763-01-01',\n",
       "  'maxdate': '2022-05-01',\n",
       "  'name': 'Extreme minimum temperature for the period.',\n",
       "  'datacoverage': 1,\n",
       "  'id': 'EMNT'},\n",
       " {'mindate': '1763-01-01',\n",
       "  'maxdate': '2022-05-01',\n",
       "  'name': 'Extreme maximum temperature for the period.',\n",
       "  'datacoverage': 1,\n",
       "  'id': 'EMXT'},\n",
       " {'mindate': '1763-07-01',\n",
       "  'maxdate': '2022-05-01',\n",
       "  'name': 'Heating Degree Days Season to Date',\n",
       "  'datacoverage': 1,\n",
       "  'id': 'HDSD'},\n",
       " {'mindate': '2010-01-01',\n",
       "  'maxdate': '2010-12-31',\n",
       "  'name': 'Dew point 10th percentile',\n",
       "  'datacoverage': 1,\n",
       "  'id': 'HLY-DEWP-10PCTL'},\n",
       " {'mindate': '2010-01-01',\n",
       "  'maxdate': '2010-12-31',\n",
       "  'name': 'Dew point 90th percentile',\n",
       "  'datacoverage': 1,\n",
       "  'id': 'HLY-DEWP-90PCTL'},\n",
       " {'mindate': '2010-01-01',\n",
       "  'maxdate': '2010-12-31',\n",
       "  'name': 'Dew point mean',\n",
       "  'datacoverage': 1,\n",
       "  'id': 'HLY-DEWP-NORMAL'},\n",
       " {'mindate': '2010-01-01',\n",
       "  'maxdate': '2010-12-31',\n",
       "  'name': 'Heat index mean',\n",
       "  'datacoverage': 1,\n",
       "  'id': 'HLY-HIDX-NORMAL'},\n",
       " {'mindate': '2010-01-01',\n",
       "  'maxdate': '2010-12-31',\n",
       "  'name': 'Temperature 10th percentile',\n",
       "  'datacoverage': 1,\n",
       "  'id': 'HLY-TEMP-10PCTL'},\n",
       " {'mindate': '2010-01-01',\n",
       "  'maxdate': '2010-12-31',\n",
       "  'name': 'Temperature 90th percentile',\n",
       "  'datacoverage': 1,\n",
       "  'id': 'HLY-TEMP-90PCTL'},\n",
       " {'mindate': '2010-01-01',\n",
       "  'maxdate': '2010-12-31',\n",
       "  'name': 'Temperature mean',\n",
       "  'datacoverage': 1,\n",
       "  'id': 'HLY-TEMP-NORMAL'},\n",
       " {'mindate': '2010-01-01',\n",
       "  'maxdate': '2010-12-31',\n",
       "  'name': 'Wind chill mean',\n",
       "  'datacoverage': 1,\n",
       "  'id': 'HLY-WCHL-NORMAL'},\n",
       " {'mindate': '1763-01-01',\n",
       "  'maxdate': '2022-06-17',\n",
       "  'name': 'Highest minimum temperature',\n",
       "  'id': 'HTMN'},\n",
       " {'mindate': '1763-01-01',\n",
       "  'maxdate': '2022-06-17',\n",
       "  'name': 'Highest maximum temperature',\n",
       "  'id': 'HTMX'},\n",
       " {'mindate': '1763-01-01',\n",
       "  'maxdate': '2022-06-17',\n",
       "  'name': 'Lowest minimum temperature',\n",
       "  'id': 'LTMN'},\n",
       " {'mindate': '1763-01-01',\n",
       "  'maxdate': '2022-06-17',\n",
       "  'name': 'Lowest maximum temperature',\n",
       "  'id': 'LTMX'},\n",
       " {'mindate': '1863-05-04',\n",
       "  'maxdate': '2022-06-14',\n",
       "  'name': 'Multiday minimum temperature (use with DATN)',\n",
       "  'datacoverage': 1,\n",
       "  'id': 'MDTN'},\n",
       " {'mindate': '1863-05-04',\n",
       "  'maxdate': '2022-06-13',\n",
       "  'name': 'Multiday maximum temperature (use with DATX)',\n",
       "  'datacoverage': 1,\n",
       "  'id': 'MDTX'},\n",
       " {'mindate': '2010-01-01',\n",
       "  'maxdate': '2010-12-01',\n",
       "  'name': 'Long-term averages of monthly diurnal temperature range',\n",
       "  'datacoverage': 1,\n",
       "  'id': 'MLY-DUTR-NORMAL'},\n",
       " {'mindate': '2010-01-01',\n",
       "  'maxdate': '2010-12-01',\n",
       "  'name': 'Long-term standard deviations of monthly diurnal temperature range',\n",
       "  'datacoverage': 1,\n",
       "  'id': 'MLY-DUTR-STDDEV'},\n",
       " {'mindate': '2010-01-01',\n",
       "  'maxdate': '2010-12-01',\n",
       "  'name': 'Long-term averages of monthly average temperature',\n",
       "  'datacoverage': 1,\n",
       "  'id': 'MLY-TAVG-NORMAL'},\n",
       " {'mindate': '2010-01-01',\n",
       "  'maxdate': '2010-12-01',\n",
       "  'name': 'Long-term standard deviations of monthly average temperature',\n",
       "  'datacoverage': 1,\n",
       "  'id': 'MLY-TAVG-STDDEV'},\n",
       " {'mindate': '2010-01-01',\n",
       "  'maxdate': '2010-12-01',\n",
       "  'name': 'Long-term average number of days per month where tmax is greater than or equal to 40F',\n",
       "  'datacoverage': 1,\n",
       "  'id': 'MLY-TMAX-AVGNDS-GRTH040'},\n",
       " {'mindate': '2010-01-01',\n",
       "  'maxdate': '2010-12-01',\n",
       "  'name': 'Long-term average number of days per month where tmax is greater than or equal to 50F',\n",
       "  'datacoverage': 1,\n",
       "  'id': 'MLY-TMAX-AVGNDS-GRTH050'},\n",
       " {'mindate': '2010-01-01',\n",
       "  'maxdate': '2010-12-01',\n",
       "  'name': 'Long-term average number of days per month where tmax is greater than or equal to 60F',\n",
       "  'datacoverage': 1,\n",
       "  'id': 'MLY-TMAX-AVGNDS-GRTH060'},\n",
       " {'mindate': '2010-01-01',\n",
       "  'maxdate': '2010-12-01',\n",
       "  'name': 'Long-term average number of days per month where tmax is greater than or equal to 70F',\n",
       "  'datacoverage': 1,\n",
       "  'id': 'MLY-TMAX-AVGNDS-GRTH070'},\n",
       " {'mindate': '2010-01-01',\n",
       "  'maxdate': '2010-12-01',\n",
       "  'name': 'Long-term average number of days per month where tmax is greater than or equal to 80F',\n",
       "  'datacoverage': 1,\n",
       "  'id': 'MLY-TMAX-AVGNDS-GRTH080'},\n",
       " {'mindate': '2010-01-01',\n",
       "  'maxdate': '2010-12-01',\n",
       "  'name': 'Long-term average number of days per month where tmax is greater than or equal to 90F',\n",
       "  'datacoverage': 1,\n",
       "  'id': 'MLY-TMAX-AVGNDS-GRTH090'},\n",
       " {'mindate': '2010-01-01',\n",
       "  'maxdate': '2010-12-01',\n",
       "  'name': 'Long-term average number of days per month where tmax is greater than or equal to 100F',\n",
       "  'datacoverage': 1,\n",
       "  'id': 'MLY-TMAX-AVGNDS-GRTH100'},\n",
       " {'mindate': '2010-01-01',\n",
       "  'maxdate': '2010-12-01',\n",
       "  'name': 'Long-term average number of days per month where tmax is less than or equal to 32F',\n",
       "  'datacoverage': 1,\n",
       "  'id': 'MLY-TMAX-AVGNDS-LSTH032'},\n",
       " {'mindate': '2010-01-01',\n",
       "  'maxdate': '2010-12-01',\n",
       "  'name': 'Long-term averages of monthly maximum temperature',\n",
       "  'datacoverage': 1,\n",
       "  'id': 'MLY-TMAX-NORMAL'},\n",
       " {'mindate': '2010-01-01',\n",
       "  'maxdate': '2010-12-01',\n",
       "  'name': 'Long-term standard deviations of monthly maximum temperature',\n",
       "  'datacoverage': 1,\n",
       "  'id': 'MLY-TMAX-STDDEV'},\n",
       " {'mindate': '2010-01-01',\n",
       "  'maxdate': '2010-12-01',\n",
       "  'name': 'Long-term average number of days per month where tmin is less than or equal to 0F',\n",
       "  'datacoverage': 1,\n",
       "  'id': 'MLY-TMIN-AVGNDS-LSTH000'},\n",
       " {'mindate': '2010-01-01',\n",
       "  'maxdate': '2010-12-01',\n",
       "  'name': 'Long-term average number of days per month where tmin is less than or equal to 10F',\n",
       "  'datacoverage': 1,\n",
       "  'id': 'MLY-TMIN-AVGNDS-LSTH010'},\n",
       " {'mindate': '2010-01-01',\n",
       "  'maxdate': '2010-12-01',\n",
       "  'name': 'Long-term average number of days per month where tmin is less than or equal to 20F',\n",
       "  'datacoverage': 1,\n",
       "  'id': 'MLY-TMIN-AVGNDS-LSTH020'},\n",
       " {'mindate': '2010-01-01',\n",
       "  'maxdate': '2010-12-01',\n",
       "  'name': 'Long-term average number of days per month where tmin is less than or equal to 32F',\n",
       "  'datacoverage': 1,\n",
       "  'id': 'MLY-TMIN-AVGNDS-LSTH032'},\n",
       " {'mindate': '2010-01-01',\n",
       "  'maxdate': '2010-12-01',\n",
       "  'name': 'Long-term average number of days per month where tmin is less than or equal to 40F',\n",
       "  'datacoverage': 1,\n",
       "  'id': 'MLY-TMIN-AVGNDS-LSTH040'},\n",
       " {'mindate': '2010-01-01',\n",
       "  'maxdate': '2010-12-01',\n",
       "  'name': 'Long-term average number of days per month where tmin is less than or equal to 50F',\n",
       "  'datacoverage': 1,\n",
       "  'id': 'MLY-TMIN-AVGNDS-LSTH050'},\n",
       " {'mindate': '2010-01-01',\n",
       "  'maxdate': '2010-12-01',\n",
       "  'name': 'Long-term average number of days per month where tmin is less than or equal to 60F',\n",
       "  'datacoverage': 1,\n",
       "  'id': 'MLY-TMIN-AVGNDS-LSTH060'},\n",
       " {'mindate': '2010-01-01',\n",
       "  'maxdate': '2010-12-01',\n",
       "  'name': 'Long-term average number of days per month where tmin is less than or equal to 70F',\n",
       "  'datacoverage': 1,\n",
       "  'id': 'MLY-TMIN-AVGNDS-LSTH070'},\n",
       " {'mindate': '2010-01-01',\n",
       "  'maxdate': '2010-12-01',\n",
       "  'name': 'Long-term averages of monthly minimum temperature',\n",
       "  'datacoverage': 1,\n",
       "  'id': 'MLY-TMIN-NORMAL'},\n",
       " {'mindate': '2010-01-01',\n",
       "  'maxdate': '2010-12-01',\n",
       "  'name': 'Long-term standard deviations of monthly minimum temperature',\n",
       "  'datacoverage': 1,\n",
       "  'id': 'MLY-TMIN-STDDEV'},\n",
       " {'mindate': '1763-01-01',\n",
       "  'maxdate': '2016-03-01',\n",
       "  'name': 'Monthly Mean minimum temperature',\n",
       "  'datacoverage': 1,\n",
       "  'id': 'MMNT'},\n",
       " {'mindate': '1763-01-01',\n",
       "  'maxdate': '2016-03-01',\n",
       "  'name': 'Monthly Mean maximum temperature',\n",
       "  'datacoverage': 1,\n",
       "  'id': 'MMXT'},\n",
       " {'mindate': '1763-01-01',\n",
       "  'maxdate': '2016-03-01',\n",
       "  'name': 'Monthly mean temperature',\n",
       "  'datacoverage': 1,\n",
       "  'id': 'MNTM'},\n",
       " {'mindate': '1763-01-01',\n",
       "  'maxdate': '2022-06-17',\n",
       "  'name': 'Average Temperature.',\n",
       "  'datacoverage': 1,\n",
       "  'id': 'TAVG'},\n",
       " {'mindate': '1763-01-01',\n",
       "  'maxdate': '2022-06-17',\n",
       "  'name': 'Maximum temperature',\n",
       "  'datacoverage': 1,\n",
       "  'id': 'TMAX'},\n",
       " {'mindate': '1763-01-01',\n",
       "  'maxdate': '2022-06-17',\n",
       "  'name': 'Minimum temperature',\n",
       "  'datacoverage': 1,\n",
       "  'id': 'TMIN'},\n",
       " {'mindate': '1876-11-27',\n",
       "  'maxdate': '2022-06-17',\n",
       "  'name': 'Temperature at the time of observation',\n",
       "  'datacoverage': 1,\n",
       "  'id': 'TOBS'}]"
      ]
     },
     "execution_count": 46,
     "metadata": {},
     "output_type": "execute_result"
    }
   ],
   "source": [
    "response.json()['results']"
   ]
  },
  {
   "cell_type": "markdown",
   "metadata": {},
   "source": [
    "## Determine which Location Category we want\n",
    "Now that we know which `datatypes` we will be collecting, we need to find the location to use. First, we need to figure out the location category. This is obtained from the `locationcategories` endpoint by passing the `datasetid`:"
   ]
  },
  {
   "cell_type": "code",
   "execution_count": 11,
   "metadata": {},
   "outputs": [
    {
     "data": {
      "text/plain": [
       "200"
      ]
     },
     "execution_count": 11,
     "metadata": {},
     "output_type": "execute_result"
    }
   ],
   "source": [
    "# get location category id \n",
    "response = make_request(\n",
    "    'locationcategories', \n",
    "    {\n",
    "        'datasetid' : 'GHCND'\n",
    "    }\n",
    ")\n",
    "response.status_code"
   ]
  },
  {
   "cell_type": "markdown",
   "metadata": {},
   "source": [
    "We can use `pprint` to print dictionaries in an easier-to-read format. After doing so, we can see there are 12 different location categories, but we are only interested in `CITY`:"
   ]
  },
  {
   "cell_type": "code",
   "execution_count": 12,
   "metadata": {},
   "outputs": [
    {
     "name": "stdout",
     "output_type": "stream",
     "text": [
      "{'metadata': {'resultset': {'count': 12, 'limit': 25, 'offset': 1}},\n",
      " 'results': [{'id': 'CITY', 'name': 'City'},\n",
      "             {'id': 'CLIM_DIV', 'name': 'Climate Division'},\n",
      "             {'id': 'CLIM_REG', 'name': 'Climate Region'},\n",
      "             {'id': 'CNTRY', 'name': 'Country'},\n",
      "             {'id': 'CNTY', 'name': 'County'},\n",
      "             {'id': 'HYD_ACC', 'name': 'Hydrologic Accounting Unit'},\n",
      "             {'id': 'HYD_CAT', 'name': 'Hydrologic Cataloging Unit'},\n",
      "             {'id': 'HYD_REG', 'name': 'Hydrologic Region'},\n",
      "             {'id': 'HYD_SUB', 'name': 'Hydrologic Subregion'},\n",
      "             {'id': 'ST', 'name': 'State'},\n",
      "             {'id': 'US_TERR', 'name': 'US Territory'},\n",
      "             {'id': 'ZIP', 'name': 'Zip Code'}]}\n"
     ]
    }
   ],
   "source": [
    "import pprint\n",
    "pprint.pprint(response.json())"
   ]
  },
  {
   "cell_type": "markdown",
   "metadata": {},
   "source": [
    "## Get NYC Location ID\n",
    "In order to find the location ID for New York, we need to search through all the cities available. Since we can ask the API to return the cities sorted, we can use binary search to find New York quickly without having to make many requests or request lots of data at once. The following function makes the first request to see how big the list of cities is and looks at the first value. From there it decides if it needs to move towards the beginning or end of the list by comparing the city we are looking for to others alphabetically. Each time it makes a request it can rule out half of the remaining data to search."
   ]
  },
  {
   "cell_type": "code",
   "execution_count": 13,
   "metadata": {},
   "outputs": [],
   "source": [
    "def get_item(name, what, endpoint, start=1, end=None):\n",
    "    \"\"\"\n",
    "    Grab the JSON payload for a given field by name using binary search.\n",
    "\n",
    "    Parameters:\n",
    "        - name: The item to look for.\n",
    "        - what: Dictionary specifying what the item in `name` is.\n",
    "        - endpoint: Where to look for the item.\n",
    "        - start: The position to start at. We don't need to touch this, but the\n",
    "                 function will manipulate this with recursion.\n",
    "        - end: The last position of the cities. Used to find the midpoint, but\n",
    "               like `start` this is not something we need to worry about.\n",
    "\n",
    "    Returns:\n",
    "        Dictionary of the information for the item if found otherwise \n",
    "        an empty dictionary.\n",
    "    \"\"\"\n",
    "    # find the midpoint which we use to cut the data in half each time\n",
    "    mid = (start + (end if end else 1)) // 2\n",
    "    \n",
    "    # lowercase the name so this is not case-sensitive\n",
    "    name = name.lower()\n",
    "    \n",
    "    # define the payload we will send with each request\n",
    "    payload = {\n",
    "        'datasetid' : 'GHCND',\n",
    "        'sortfield' : 'name',\n",
    "        'offset' : mid, # we will change the offset each time\n",
    "        'limit' : 1 # we only want one value back\n",
    "    }\n",
    "    \n",
    "    # make our request adding any additional filter parameters from `what`\n",
    "    response = make_request(endpoint, {**payload, **what})\n",
    "    \n",
    "    if response.ok:\n",
    "        # if response is ok, grab the end index from the response metadata the first time through\n",
    "        end = end if end else response.json()['metadata']['resultset']['count']\n",
    "        \n",
    "        # grab the lowercase version of the current name\n",
    "        current_name = response.json()['results'][0]['name'].lower()\n",
    "        \n",
    "        # if what we are searching for is in the current name, we have found our item\n",
    "        if name in current_name:\n",
    "            return response.json()['results'][0] # return the found item\n",
    "        else:\n",
    "            if start >= end: \n",
    "                # if our start index is greater than or equal to our end, we couldn't find it\n",
    "                return {}\n",
    "            elif name < current_name:\n",
    "                # our name comes before the current name in the alphabet, so we search further to the left\n",
    "                return get_item(name, what, endpoint, start, mid - 1)\n",
    "            elif name > current_name:\n",
    "                # our name comes after the current name in the alphabet, so we search further to the right\n",
    "                return get_item(name, what, endpoint, mid + 1, end)    \n",
    "    else:\n",
    "        # response wasn't ok, use code to determine why\n",
    "        print(f'Response not OK, status: {response.status_code}')\n",
    "\n",
    "def get_location(name):\n",
    "    \"\"\"\n",
    "    Grab the JSON payload for the location by name using binary search.\n",
    "\n",
    "    Parameters:\n",
    "        - name: The city to look for.\n",
    "\n",
    "    Returns:\n",
    "        Dictionary of the information for the city if found otherwise \n",
    "        an empty dictionary.\n",
    "    \"\"\"\n",
    "    return get_item(name, {'locationcategoryid' : 'CITY'}, 'locations')"
   ]
  },
  {
   "cell_type": "markdown",
   "metadata": {},
   "source": [
    "When we use binary search to find New York, we find it in just 8 requests despite it being close to the middle of 1,983 entries:"
   ]
  },
  {
   "cell_type": "code",
   "execution_count": 14,
   "metadata": {},
   "outputs": [
    {
     "data": {
      "text/plain": [
       "{'mindate': '1869-01-01',\n",
       " 'maxdate': '2019-05-02',\n",
       " 'name': 'New York, NY US',\n",
       " 'datacoverage': 1,\n",
       " 'id': 'CITY:US360019'}"
      ]
     },
     "execution_count": 14,
     "metadata": {},
     "output_type": "execute_result"
    }
   ],
   "source": [
    "# get NYC id \n",
    "nyc = get_location('New York')\n",
    "nyc"
   ]
  },
  {
   "cell_type": "markdown",
   "metadata": {},
   "source": [
    "## Get the station ID for Central Park\n",
    "The most granular data is found at the station level:"
   ]
  },
  {
   "cell_type": "code",
   "execution_count": 15,
   "metadata": {},
   "outputs": [
    {
     "data": {
      "text/plain": [
       "{'elevation': 42.7,\n",
       " 'mindate': '1869-01-01',\n",
       " 'maxdate': '2019-05-01',\n",
       " 'latitude': 40.77898,\n",
       " 'name': 'NY CITY CENTRAL PARK, NY US',\n",
       " 'datacoverage': 1,\n",
       " 'id': 'GHCND:USW00094728',\n",
       " 'elevationUnit': 'METERS',\n",
       " 'longitude': -73.96925}"
      ]
     },
     "execution_count": 15,
     "metadata": {},
     "output_type": "execute_result"
    }
   ],
   "source": [
    "central_park = get_item('NY City Central Park', {'locationid' : nyc['id']}, 'stations')\n",
    "central_park"
   ]
  },
  {
   "cell_type": "markdown",
   "metadata": {},
   "source": [
    "## Request the temperature data\n",
    "Finally, we have everything we need to make our request for the New York temperature data. For this we use the `data` endpoint and provide all the parameters we picked up throughout our exploration of the API:"
   ]
  },
  {
   "cell_type": "code",
   "execution_count": 16,
   "metadata": {},
   "outputs": [
    {
     "data": {
      "text/plain": [
       "200"
      ]
     },
     "execution_count": 16,
     "metadata": {},
     "output_type": "execute_result"
    }
   ],
   "source": [
    "# get NYC daily summaries data \n",
    "response = make_request(\n",
    "    'data', \n",
    "    {\n",
    "        'datasetid' : 'GHCND',\n",
    "        'stationid' : central_park['id'],\n",
    "        'locationid' : nyc['id'],\n",
    "        'startdate' : '2018-10-01',\n",
    "        'enddate' : '2018-10-31',\n",
    "        'datatypeid' : ['TMIN', 'TMAX', 'TOBS'], # temperature at time of observation, min, and max\n",
    "        'units' : 'metric',\n",
    "        'limit' : 1000\n",
    "    }\n",
    ")\n",
    "response.status_code"
   ]
  },
  {
   "cell_type": "markdown",
   "metadata": {},
   "source": [
    "## Create a DataFrame\n",
    "The Central Park station only has the daily minimum and maximum temperatures."
   ]
  },
  {
   "cell_type": "code",
   "execution_count": 17,
   "metadata": {},
   "outputs": [
    {
     "data": {
      "text/html": [
       "<div>\n",
       "<style scoped>\n",
       "    .dataframe tbody tr th:only-of-type {\n",
       "        vertical-align: middle;\n",
       "    }\n",
       "\n",
       "    .dataframe tbody tr th {\n",
       "        vertical-align: top;\n",
       "    }\n",
       "\n",
       "    .dataframe thead th {\n",
       "        text-align: right;\n",
       "    }\n",
       "</style>\n",
       "<table border=\"1\" class=\"dataframe\">\n",
       "  <thead>\n",
       "    <tr style=\"text-align: right;\">\n",
       "      <th></th>\n",
       "      <th>attributes</th>\n",
       "      <th>datatype</th>\n",
       "      <th>date</th>\n",
       "      <th>station</th>\n",
       "      <th>value</th>\n",
       "    </tr>\n",
       "  </thead>\n",
       "  <tbody>\n",
       "    <tr>\n",
       "      <th>0</th>\n",
       "      <td>,,W,2400</td>\n",
       "      <td>TMAX</td>\n",
       "      <td>2018-10-01T00:00:00</td>\n",
       "      <td>GHCND:USW00094728</td>\n",
       "      <td>24.4</td>\n",
       "    </tr>\n",
       "    <tr>\n",
       "      <th>1</th>\n",
       "      <td>,,W,2400</td>\n",
       "      <td>TMIN</td>\n",
       "      <td>2018-10-01T00:00:00</td>\n",
       "      <td>GHCND:USW00094728</td>\n",
       "      <td>17.2</td>\n",
       "    </tr>\n",
       "    <tr>\n",
       "      <th>2</th>\n",
       "      <td>,,W,2400</td>\n",
       "      <td>TMAX</td>\n",
       "      <td>2018-10-02T00:00:00</td>\n",
       "      <td>GHCND:USW00094728</td>\n",
       "      <td>25.0</td>\n",
       "    </tr>\n",
       "    <tr>\n",
       "      <th>3</th>\n",
       "      <td>,,W,2400</td>\n",
       "      <td>TMIN</td>\n",
       "      <td>2018-10-02T00:00:00</td>\n",
       "      <td>GHCND:USW00094728</td>\n",
       "      <td>18.3</td>\n",
       "    </tr>\n",
       "    <tr>\n",
       "      <th>4</th>\n",
       "      <td>,,W,2400</td>\n",
       "      <td>TMAX</td>\n",
       "      <td>2018-10-03T00:00:00</td>\n",
       "      <td>GHCND:USW00094728</td>\n",
       "      <td>23.3</td>\n",
       "    </tr>\n",
       "  </tbody>\n",
       "</table>\n",
       "</div>"
      ],
      "text/plain": [
       "  attributes datatype                 date            station  value\n",
       "0   ,,W,2400     TMAX  2018-10-01T00:00:00  GHCND:USW00094728   24.4\n",
       "1   ,,W,2400     TMIN  2018-10-01T00:00:00  GHCND:USW00094728   17.2\n",
       "2   ,,W,2400     TMAX  2018-10-02T00:00:00  GHCND:USW00094728   25.0\n",
       "3   ,,W,2400     TMIN  2018-10-02T00:00:00  GHCND:USW00094728   18.3\n",
       "4   ,,W,2400     TMAX  2018-10-03T00:00:00  GHCND:USW00094728   23.3"
      ]
     },
     "execution_count": 17,
     "metadata": {},
     "output_type": "execute_result"
    }
   ],
   "source": [
    "import pandas as pd\n",
    "\n",
    "df = pd.DataFrame(response.json()['results'])\n",
    "df.head()"
   ]
  },
  {
   "cell_type": "markdown",
   "metadata": {},
   "source": [
    "We didn't get TOBS because the station doesn't measure that:"
   ]
  },
  {
   "cell_type": "code",
   "execution_count": 18,
   "metadata": {},
   "outputs": [
    {
     "data": {
      "text/plain": [
       "array(['TMAX', 'TMIN'], dtype=object)"
      ]
     },
     "execution_count": 18,
     "metadata": {},
     "output_type": "execute_result"
    }
   ],
   "source": [
    "df.datatype.unique()"
   ]
  },
  {
   "cell_type": "markdown",
   "metadata": {},
   "source": [
    "Despite showing up in the data as measuring it... Real-world data is dirty!"
   ]
  },
  {
   "cell_type": "code",
   "execution_count": 19,
   "metadata": {},
   "outputs": [
    {
     "name": "stdout",
     "output_type": "stream",
     "text": [
      "Found!\n"
     ]
    }
   ],
   "source": [
    "if get_item(\n",
    "    'NY City Central Park', {'locationid' : nyc['id'], 'datatypeid': 'TOBS'}, 'stations'\n",
    "):\n",
    "    print('Found!')"
   ]
  },
  {
   "cell_type": "markdown",
   "metadata": {},
   "source": [
    "## Using a different station\n",
    "Let's use LaGuardia airport instead. It contains `TAVG` (average daily temperature):"
   ]
  },
  {
   "cell_type": "code",
   "execution_count": 20,
   "metadata": {},
   "outputs": [
    {
     "data": {
      "text/plain": [
       "{'elevation': 3.4,\n",
       " 'mindate': '1939-10-07',\n",
       " 'maxdate': '2019-05-02',\n",
       " 'latitude': 40.7792,\n",
       " 'name': 'LAGUARDIA AIRPORT, NY US',\n",
       " 'datacoverage': 1,\n",
       " 'id': 'GHCND:USW00014732',\n",
       " 'elevationUnit': 'METERS',\n",
       " 'longitude': -73.88}"
      ]
     },
     "execution_count": 20,
     "metadata": {},
     "output_type": "execute_result"
    }
   ],
   "source": [
    "laguardia = get_item(\n",
    "    'LaGuardia', {'locationid' : nyc['id']}, 'stations'\n",
    ")\n",
    "laguardia"
   ]
  },
  {
   "cell_type": "markdown",
   "metadata": {},
   "source": [
    "We make our request using the LaGuardia airport station this time and ask for `TAVG` instead of `TOBS`."
   ]
  },
  {
   "cell_type": "code",
   "execution_count": 21,
   "metadata": {},
   "outputs": [
    {
     "data": {
      "text/plain": [
       "200"
      ]
     },
     "execution_count": 21,
     "metadata": {},
     "output_type": "execute_result"
    }
   ],
   "source": [
    "# get NYC daily summaries data \n",
    "response = make_request(\n",
    "    'data', \n",
    "    {\n",
    "        'datasetid' : 'GHCND',\n",
    "        'stationid' : laguardia['id'],\n",
    "        'locationid' : nyc['id'],\n",
    "        'startdate' : '2018-10-01',\n",
    "        'enddate' : '2018-10-31',\n",
    "        'datatypeid' : ['TMIN', 'TMAX', 'TAVG'], # temperature at time of observation, min, and max\n",
    "        'units' : 'metric',\n",
    "        'limit' : 1000\n",
    "    }\n",
    ")\n",
    "response.status_code"
   ]
  },
  {
   "cell_type": "markdown",
   "metadata": {},
   "source": [
    "The request was successful, so let's make a dataframe:"
   ]
  },
  {
   "cell_type": "code",
   "execution_count": 22,
   "metadata": {},
   "outputs": [
    {
     "data": {
      "text/html": [
       "<div>\n",
       "<style scoped>\n",
       "    .dataframe tbody tr th:only-of-type {\n",
       "        vertical-align: middle;\n",
       "    }\n",
       "\n",
       "    .dataframe tbody tr th {\n",
       "        vertical-align: top;\n",
       "    }\n",
       "\n",
       "    .dataframe thead th {\n",
       "        text-align: right;\n",
       "    }\n",
       "</style>\n",
       "<table border=\"1\" class=\"dataframe\">\n",
       "  <thead>\n",
       "    <tr style=\"text-align: right;\">\n",
       "      <th></th>\n",
       "      <th>attributes</th>\n",
       "      <th>datatype</th>\n",
       "      <th>date</th>\n",
       "      <th>station</th>\n",
       "      <th>value</th>\n",
       "    </tr>\n",
       "  </thead>\n",
       "  <tbody>\n",
       "    <tr>\n",
       "      <th>0</th>\n",
       "      <td>H,,S,</td>\n",
       "      <td>TAVG</td>\n",
       "      <td>2018-10-01T00:00:00</td>\n",
       "      <td>GHCND:USW00014732</td>\n",
       "      <td>21.2</td>\n",
       "    </tr>\n",
       "    <tr>\n",
       "      <th>1</th>\n",
       "      <td>,,W,2400</td>\n",
       "      <td>TMAX</td>\n",
       "      <td>2018-10-01T00:00:00</td>\n",
       "      <td>GHCND:USW00014732</td>\n",
       "      <td>25.6</td>\n",
       "    </tr>\n",
       "    <tr>\n",
       "      <th>2</th>\n",
       "      <td>,,W,2400</td>\n",
       "      <td>TMIN</td>\n",
       "      <td>2018-10-01T00:00:00</td>\n",
       "      <td>GHCND:USW00014732</td>\n",
       "      <td>18.3</td>\n",
       "    </tr>\n",
       "    <tr>\n",
       "      <th>3</th>\n",
       "      <td>H,,S,</td>\n",
       "      <td>TAVG</td>\n",
       "      <td>2018-10-02T00:00:00</td>\n",
       "      <td>GHCND:USW00014732</td>\n",
       "      <td>22.7</td>\n",
       "    </tr>\n",
       "    <tr>\n",
       "      <th>4</th>\n",
       "      <td>,,W,2400</td>\n",
       "      <td>TMAX</td>\n",
       "      <td>2018-10-02T00:00:00</td>\n",
       "      <td>GHCND:USW00014732</td>\n",
       "      <td>26.1</td>\n",
       "    </tr>\n",
       "  </tbody>\n",
       "</table>\n",
       "</div>"
      ],
      "text/plain": [
       "  attributes datatype                 date            station  value\n",
       "0      H,,S,     TAVG  2018-10-01T00:00:00  GHCND:USW00014732   21.2\n",
       "1   ,,W,2400     TMAX  2018-10-01T00:00:00  GHCND:USW00014732   25.6\n",
       "2   ,,W,2400     TMIN  2018-10-01T00:00:00  GHCND:USW00014732   18.3\n",
       "3      H,,S,     TAVG  2018-10-02T00:00:00  GHCND:USW00014732   22.7\n",
       "4   ,,W,2400     TMAX  2018-10-02T00:00:00  GHCND:USW00014732   26.1"
      ]
     },
     "execution_count": 22,
     "metadata": {},
     "output_type": "execute_result"
    }
   ],
   "source": [
    "df = pd.DataFrame(response.json()['results'])\n",
    "df.head()"
   ]
  },
  {
   "cell_type": "markdown",
   "metadata": {},
   "source": [
    "We should check we got what we wanted: 31 entries for TAVG, TMAX, and TMIN (1 per day):"
   ]
  },
  {
   "cell_type": "code",
   "execution_count": 23,
   "metadata": {},
   "outputs": [
    {
     "data": {
      "text/plain": [
       "TMAX    31\n",
       "TAVG    31\n",
       "TMIN    31\n",
       "Name: datatype, dtype: int64"
      ]
     },
     "execution_count": 23,
     "metadata": {},
     "output_type": "execute_result"
    }
   ],
   "source": [
    "df.datatype.value_counts()"
   ]
  },
  {
   "cell_type": "markdown",
   "metadata": {},
   "source": [
    "Write the data to a CSV file for use in other notebooks."
   ]
  },
  {
   "cell_type": "code",
   "execution_count": 24,
   "metadata": {},
   "outputs": [],
   "source": [
    "df.to_csv('data/nyc_temperatures.csv', index=False)"
   ]
  },
  {
   "cell_type": "code",
   "execution_count": null,
   "metadata": {},
   "outputs": [],
   "source": []
  },
  {
   "cell_type": "markdown",
   "metadata": {},
   "source": [
    "# Tsai"
   ]
  },
  {
   "cell_type": "code",
   "execution_count": 29,
   "metadata": {
    "ExecuteTime": {
     "end_time": "2022-06-20T12:13:17.673386Z",
     "start_time": "2022-06-20T12:13:17.114632Z"
    }
   },
   "outputs": [],
   "source": [
    "import requests\n",
    "import pandas as pd"
   ]
  },
  {
   "cell_type": "code",
   "execution_count": 30,
   "metadata": {
    "ExecuteTime": {
     "end_time": "2022-06-20T12:13:17.690397Z",
     "start_time": "2022-06-20T12:13:17.677611Z"
    }
   },
   "outputs": [],
   "source": [
    "def get_html(endpoint):\n",
    "    \n",
    "    url = f'https://www.ncei.noaa.gov/cdo-web/api/v2/{endpoint}'\n",
    "    headers = {'token':'BLCJktYyZmRiVTHlgmzFagKUPkAGUyOA'}\n",
    "    params = {'startdate':'2018-08-28',\n",
    "             'enddate':'2019-04-15'}\n",
    "    r = requests.get(url,headers = headers,params=params)\n",
    "    \n",
    "    return r"
   ]
  },
  {
   "cell_type": "code",
   "execution_count": 31,
   "metadata": {
    "ExecuteTime": {
     "end_time": "2022-06-20T12:13:18.995279Z",
     "start_time": "2022-06-20T12:13:17.787242Z"
    }
   },
   "outputs": [],
   "source": [
    "r = get_html('datasets')"
   ]
  },
  {
   "cell_type": "code",
   "execution_count": 32,
   "metadata": {
    "ExecuteTime": {
     "end_time": "2022-06-20T12:13:19.011773Z",
     "start_time": "2022-06-20T12:13:18.998932Z"
    }
   },
   "outputs": [
    {
     "data": {
      "text/plain": [
       "200"
      ]
     },
     "execution_count": 32,
     "metadata": {},
     "output_type": "execute_result"
    }
   ],
   "source": [
    "r.status_code"
   ]
  },
  {
   "cell_type": "code",
   "execution_count": 35,
   "metadata": {
    "ExecuteTime": {
     "end_time": "2022-06-20T12:13:59.722016Z",
     "start_time": "2022-06-20T12:13:59.710297Z"
    }
   },
   "outputs": [
    {
     "data": {
      "text/plain": [
       "{'resultset': {'offset': 1, 'count': 11, 'limit': 25}}"
      ]
     },
     "execution_count": 35,
     "metadata": {},
     "output_type": "execute_result"
    }
   ],
   "source": [
    "r.json()['metadata']"
   ]
  },
  {
   "cell_type": "code",
   "execution_count": 34,
   "metadata": {
    "ExecuteTime": {
     "end_time": "2022-06-20T12:13:32.464463Z",
     "start_time": "2022-06-20T12:13:32.428863Z"
    }
   },
   "outputs": [
    {
     "data": {
      "text/html": [
       "<div>\n",
       "<style scoped>\n",
       "    .dataframe tbody tr th:only-of-type {\n",
       "        vertical-align: middle;\n",
       "    }\n",
       "\n",
       "    .dataframe tbody tr th {\n",
       "        vertical-align: top;\n",
       "    }\n",
       "\n",
       "    .dataframe thead th {\n",
       "        text-align: right;\n",
       "    }\n",
       "</style>\n",
       "<table border=\"1\" class=\"dataframe\">\n",
       "  <thead>\n",
       "    <tr style=\"text-align: right;\">\n",
       "      <th></th>\n",
       "      <th>uid</th>\n",
       "      <th>mindate</th>\n",
       "      <th>maxdate</th>\n",
       "      <th>name</th>\n",
       "      <th>datacoverage</th>\n",
       "      <th>id</th>\n",
       "    </tr>\n",
       "  </thead>\n",
       "  <tbody>\n",
       "    <tr>\n",
       "      <th>0</th>\n",
       "      <td>gov.noaa.ncdc:C00861</td>\n",
       "      <td>1763-01-01</td>\n",
       "      <td>2022-06-17</td>\n",
       "      <td>Daily Summaries</td>\n",
       "      <td>1.00</td>\n",
       "      <td>GHCND</td>\n",
       "    </tr>\n",
       "    <tr>\n",
       "      <th>1</th>\n",
       "      <td>gov.noaa.ncdc:C00946</td>\n",
       "      <td>1763-01-01</td>\n",
       "      <td>2022-06-01</td>\n",
       "      <td>Global Summary of the Month</td>\n",
       "      <td>1.00</td>\n",
       "      <td>GSOM</td>\n",
       "    </tr>\n",
       "    <tr>\n",
       "      <th>2</th>\n",
       "      <td>gov.noaa.ncdc:C00947</td>\n",
       "      <td>1763-01-01</td>\n",
       "      <td>2022-01-01</td>\n",
       "      <td>Global Summary of the Year</td>\n",
       "      <td>1.00</td>\n",
       "      <td>GSOY</td>\n",
       "    </tr>\n",
       "    <tr>\n",
       "      <th>3</th>\n",
       "      <td>gov.noaa.ncdc:C00345</td>\n",
       "      <td>1991-06-05</td>\n",
       "      <td>2022-06-17</td>\n",
       "      <td>Weather Radar (Level II)</td>\n",
       "      <td>0.95</td>\n",
       "      <td>NEXRAD2</td>\n",
       "    </tr>\n",
       "    <tr>\n",
       "      <th>4</th>\n",
       "      <td>gov.noaa.ncdc:C00708</td>\n",
       "      <td>1994-05-20</td>\n",
       "      <td>2022-06-17</td>\n",
       "      <td>Weather Radar (Level III)</td>\n",
       "      <td>0.95</td>\n",
       "      <td>NEXRAD3</td>\n",
       "    </tr>\n",
       "    <tr>\n",
       "      <th>5</th>\n",
       "      <td>gov.noaa.ncdc:C00821</td>\n",
       "      <td>2010-01-01</td>\n",
       "      <td>2010-01-01</td>\n",
       "      <td>Normals Annual/Seasonal</td>\n",
       "      <td>1.00</td>\n",
       "      <td>NORMAL_ANN</td>\n",
       "    </tr>\n",
       "    <tr>\n",
       "      <th>6</th>\n",
       "      <td>gov.noaa.ncdc:C00823</td>\n",
       "      <td>2010-01-01</td>\n",
       "      <td>2010-12-31</td>\n",
       "      <td>Normals Daily</td>\n",
       "      <td>1.00</td>\n",
       "      <td>NORMAL_DLY</td>\n",
       "    </tr>\n",
       "    <tr>\n",
       "      <th>7</th>\n",
       "      <td>gov.noaa.ncdc:C00824</td>\n",
       "      <td>2010-01-01</td>\n",
       "      <td>2010-12-31</td>\n",
       "      <td>Normals Hourly</td>\n",
       "      <td>1.00</td>\n",
       "      <td>NORMAL_HLY</td>\n",
       "    </tr>\n",
       "    <tr>\n",
       "      <th>8</th>\n",
       "      <td>gov.noaa.ncdc:C00822</td>\n",
       "      <td>2010-01-01</td>\n",
       "      <td>2010-12-01</td>\n",
       "      <td>Normals Monthly</td>\n",
       "      <td>1.00</td>\n",
       "      <td>NORMAL_MLY</td>\n",
       "    </tr>\n",
       "    <tr>\n",
       "      <th>9</th>\n",
       "      <td>gov.noaa.ncdc:C00505</td>\n",
       "      <td>1970-05-12</td>\n",
       "      <td>2014-01-01</td>\n",
       "      <td>Precipitation 15 Minute</td>\n",
       "      <td>0.25</td>\n",
       "      <td>PRECIP_15</td>\n",
       "    </tr>\n",
       "    <tr>\n",
       "      <th>10</th>\n",
       "      <td>gov.noaa.ncdc:C00313</td>\n",
       "      <td>1900-01-01</td>\n",
       "      <td>2014-01-01</td>\n",
       "      <td>Precipitation Hourly</td>\n",
       "      <td>1.00</td>\n",
       "      <td>PRECIP_HLY</td>\n",
       "    </tr>\n",
       "  </tbody>\n",
       "</table>\n",
       "</div>"
      ],
      "text/plain": [
       "                     uid     mindate     maxdate                         name  \\\n",
       "0   gov.noaa.ncdc:C00861  1763-01-01  2022-06-17              Daily Summaries   \n",
       "1   gov.noaa.ncdc:C00946  1763-01-01  2022-06-01  Global Summary of the Month   \n",
       "2   gov.noaa.ncdc:C00947  1763-01-01  2022-01-01   Global Summary of the Year   \n",
       "3   gov.noaa.ncdc:C00345  1991-06-05  2022-06-17     Weather Radar (Level II)   \n",
       "4   gov.noaa.ncdc:C00708  1994-05-20  2022-06-17    Weather Radar (Level III)   \n",
       "5   gov.noaa.ncdc:C00821  2010-01-01  2010-01-01      Normals Annual/Seasonal   \n",
       "6   gov.noaa.ncdc:C00823  2010-01-01  2010-12-31                Normals Daily   \n",
       "7   gov.noaa.ncdc:C00824  2010-01-01  2010-12-31               Normals Hourly   \n",
       "8   gov.noaa.ncdc:C00822  2010-01-01  2010-12-01              Normals Monthly   \n",
       "9   gov.noaa.ncdc:C00505  1970-05-12  2014-01-01      Precipitation 15 Minute   \n",
       "10  gov.noaa.ncdc:C00313  1900-01-01  2014-01-01         Precipitation Hourly   \n",
       "\n",
       "    datacoverage          id  \n",
       "0           1.00       GHCND  \n",
       "1           1.00        GSOM  \n",
       "2           1.00        GSOY  \n",
       "3           0.95     NEXRAD2  \n",
       "4           0.95     NEXRAD3  \n",
       "5           1.00  NORMAL_ANN  \n",
       "6           1.00  NORMAL_DLY  \n",
       "7           1.00  NORMAL_HLY  \n",
       "8           1.00  NORMAL_MLY  \n",
       "9           0.25   PRECIP_15  \n",
       "10          1.00  PRECIP_HLY  "
      ]
     },
     "execution_count": 34,
     "metadata": {},
     "output_type": "execute_result"
    }
   ],
   "source": [
    "pd.DataFrame(r.json()['results'])"
   ]
  },
  {
   "cell_type": "code",
   "execution_count": null,
   "metadata": {},
   "outputs": [],
   "source": []
  }
 ],
 "metadata": {
  "kernelspec": {
   "display_name": "Python 3",
   "language": "python",
   "name": "python3"
  },
  "language_info": {
   "codemirror_mode": {
    "name": "ipython",
    "version": 3
   },
   "file_extension": ".py",
   "mimetype": "text/x-python",
   "name": "python",
   "nbconvert_exporter": "python",
   "pygments_lexer": "ipython3",
   "version": "3.8.1"
  },
  "toc": {
   "base_numbering": 1,
   "nav_menu": {},
   "number_sections": true,
   "sideBar": true,
   "skip_h1_title": false,
   "title_cell": "Table of Contents",
   "title_sidebar": "Contents",
   "toc_cell": false,
   "toc_position": {},
   "toc_section_display": true,
   "toc_window_display": false
  }
 },
 "nbformat": 4,
 "nbformat_minor": 2
}
