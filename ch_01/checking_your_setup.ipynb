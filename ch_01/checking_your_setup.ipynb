{
 "cells": [
  {
   "cell_type": "markdown",
   "metadata": {},
   "source": [
    "# Checking your setup\n",
    "Run through this notebook to make sure your environment is properly setup. Be sure to launch Jupyter from inside the virtual environment."
   ]
  },
  {
   "cell_type": "code",
   "execution_count": 1,
   "metadata": {
    "ExecuteTime": {
     "end_time": "2022-06-17T10:00:06.110342Z",
     "start_time": "2022-06-17T10:00:04.271476Z"
    }
   },
   "outputs": [
    {
     "name": "stdout",
     "output_type": "stream",
     "text": [
      "Using Python in /Library/Frameworks/Python.framework/Versions/3.8:\n",
      "\u001b[42m[ OK ]\u001b[0m Python is version 3.8.1 (v3.8.1:1b293b6006, Dec 18 2019, 14:08:53) \n",
      "[Clang 6.0 (clang-600.0.57)]\n",
      "\n",
      "\u001b[41m[FAIL]\u001b[0m graphviz not installed.\n",
      "\u001b[41m[FAIL]\u001b[0m imblearn not installed.\n",
      "\u001b[41m[FAIL]\u001b[0m jupyterlab not installed.\n",
      "\u001b[41m[FAIL]\u001b[0m matplotlib version 3.0.3 is required, but 3.1.3 installed.\n",
      "\u001b[42m[ OK ]\u001b[0m matplotlib\n",
      "\u001b[41m[FAIL]\u001b[0m numpy version 1.16.3 is required, but 1.18.1 installed.\n",
      "\u001b[42m[ OK ]\u001b[0m numpy\n",
      "\u001b[41m[FAIL]\u001b[0m pandas version 0.23.4 is required, but 1.3.5 installed.\n",
      "\u001b[42m[ OK ]\u001b[0m pandas\n",
      "\u001b[41m[FAIL]\u001b[0m pandas_datareader not installed.\n",
      "\u001b[41m[FAIL]\u001b[0m requests version 2.21.0 is required, but 2.22.0 installed.\n",
      "\u001b[42m[ OK ]\u001b[0m requests\n",
      "\u001b[41m[FAIL]\u001b[0m sklearn version 0.20.3 is required, but 0.22.1 installed.\n",
      "\u001b[42m[ OK ]\u001b[0m sklearn\n",
      "\u001b[41m[FAIL]\u001b[0m scipy version 1.2.1 is required, but 1.4.1 installed.\n",
      "\u001b[42m[ OK ]\u001b[0m scipy\n",
      "\u001b[41m[FAIL]\u001b[0m seaborn version 0.9.0 is required, but 0.10.0 installed.\n",
      "\u001b[42m[ OK ]\u001b[0m seaborn\n",
      "\u001b[41m[FAIL]\u001b[0m sqlalchemy not installed.\n",
      "\u001b[41m[FAIL]\u001b[0m statsmodels not installed.\n",
      "\u001b[41m[FAIL]\u001b[0m login_attempt_simulator not installed.\n",
      "\u001b[41m[FAIL]\u001b[0m ml_utils not installed.\n",
      "\u001b[41m[FAIL]\u001b[0m stock_analysis not installed.\n"
     ]
    }
   ],
   "source": [
    "from check_environment import run_checks\n",
    "run_checks()"
   ]
  },
  {
   "cell_type": "markdown",
   "metadata": {},
   "source": [
    "*Note: Adapted from Andreas Mueller's [`check_env.ipynb` notebook](https://github.com/amueller/ml-workshop-1-of-4/blob/master/check_env.ipynb).*"
   ]
  }
 ],
 "metadata": {
  "kernelspec": {
   "display_name": "Python 3",
   "language": "python",
   "name": "python3"
  },
  "language_info": {
   "codemirror_mode": {
    "name": "ipython",
    "version": 3
   },
   "file_extension": ".py",
   "mimetype": "text/x-python",
   "name": "python",
   "nbconvert_exporter": "python",
   "pygments_lexer": "ipython3",
   "version": "3.8.1"
  },
  "toc": {
   "base_numbering": 1,
   "nav_menu": {},
   "number_sections": true,
   "sideBar": true,
   "skip_h1_title": false,
   "title_cell": "Table of Contents",
   "title_sidebar": "Contents",
   "toc_cell": false,
   "toc_position": {},
   "toc_section_display": true,
   "toc_window_display": false
  }
 },
 "nbformat": 4,
 "nbformat_minor": 2
}
