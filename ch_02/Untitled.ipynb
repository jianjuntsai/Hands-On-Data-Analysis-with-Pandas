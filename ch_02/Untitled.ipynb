{
 "cells": [
  {
   "cell_type": "markdown",
   "id": "e1f1af90",
   "metadata": {},
   "source": [
    "# ch02 Exercise"
   ]
  },
  {
   "cell_type": "code",
   "execution_count": 38,
   "id": "b341592b",
   "metadata": {
    "ExecuteTime": {
     "end_time": "2022-06-19T15:15:00.819265Z",
     "start_time": "2022-06-19T15:15:00.805492Z"
    }
   },
   "outputs": [],
   "source": [
    "import pandas as pd\n",
    "import numpy as np"
   ]
  },
  {
   "cell_type": "code",
   "execution_count": 39,
   "id": "fd0a3d47",
   "metadata": {
    "ExecuteTime": {
     "end_time": "2022-06-19T15:15:01.236419Z",
     "start_time": "2022-06-19T15:15:01.149835Z"
    }
   },
   "outputs": [],
   "source": [
    "df = pd.read_csv('data/parsed.csv')"
   ]
  },
  {
   "cell_type": "code",
   "execution_count": 40,
   "id": "fe771227",
   "metadata": {
    "ExecuteTime": {
     "end_time": "2022-06-19T15:15:01.415527Z",
     "start_time": "2022-06-19T15:15:01.388001Z"
    },
    "scrolled": true
   },
   "outputs": [
    {
     "name": "stdout",
     "output_type": "stream",
     "text": [
      "<class 'pandas.core.frame.DataFrame'>\n",
      "RangeIndex: 9332 entries, 0 to 9331\n",
      "Data columns (total 27 columns):\n",
      " #   Column        Non-Null Count  Dtype  \n",
      "---  ------        --------------  -----  \n",
      " 0   alert         59 non-null     object \n",
      " 1   cdi           329 non-null    float64\n",
      " 2   code          9332 non-null   object \n",
      " 3   detail        9332 non-null   object \n",
      " 4   dmin          6139 non-null   float64\n",
      " 5   felt          329 non-null    float64\n",
      " 6   gap           6164 non-null   float64\n",
      " 7   ids           9332 non-null   object \n",
      " 8   mag           9331 non-null   float64\n",
      " 9   magType       9331 non-null   object \n",
      " 10  mmi           93 non-null     float64\n",
      " 11  net           9332 non-null   object \n",
      " 12  nst           5364 non-null   float64\n",
      " 13  place         9332 non-null   object \n",
      " 14  rms           9332 non-null   float64\n",
      " 15  sig           9332 non-null   int64  \n",
      " 16  sources       9332 non-null   object \n",
      " 17  status        9332 non-null   object \n",
      " 18  time          9332 non-null   int64  \n",
      " 19  title         9332 non-null   object \n",
      " 20  tsunami       9332 non-null   int64  \n",
      " 21  type          9332 non-null   object \n",
      " 22  types         9332 non-null   object \n",
      " 23  tz            9331 non-null   float64\n",
      " 24  updated       9332 non-null   int64  \n",
      " 25  url           9332 non-null   object \n",
      " 26  parsed_place  9332 non-null   object \n",
      "dtypes: float64(9), int64(4), object(14)\n",
      "memory usage: 1.9+ MB\n"
     ]
    }
   ],
   "source": [
    "df.info()"
   ]
  },
  {
   "cell_type": "markdown",
   "id": "07d4e3b1",
   "metadata": {},
   "source": [
    "# exercise1"
   ]
  },
  {
   "cell_type": "code",
   "execution_count": 41,
   "id": "491a08c5",
   "metadata": {
    "ExecuteTime": {
     "end_time": "2022-06-19T15:15:02.326296Z",
     "start_time": "2022-06-19T15:15:02.307182Z"
    }
   },
   "outputs": [
    {
     "data": {
      "text/plain": [
       "4.9"
      ]
     },
     "execution_count": 41,
     "metadata": {},
     "output_type": "execute_result"
    }
   ],
   "source": [
    "df[(df.parsed_place=='Japan')&(df.magType=='mb')].mag.quantile(0.95)"
   ]
  },
  {
   "cell_type": "markdown",
   "id": "2b962850",
   "metadata": {},
   "source": [
    "# exercise2"
   ]
  },
  {
   "cell_type": "code",
   "execution_count": 42,
   "id": "7e183699",
   "metadata": {
    "ExecuteTime": {
     "end_time": "2022-06-19T15:15:03.220278Z",
     "start_time": "2022-06-19T15:15:03.207873Z"
    }
   },
   "outputs": [
    {
     "data": {
      "text/plain": [
       "0    9271\n",
       "1      61\n",
       "Name: tsunami, dtype: int64"
      ]
     },
     "execution_count": 42,
     "metadata": {},
     "output_type": "execute_result"
    }
   ],
   "source": [
    "df.tsunami.value_counts()"
   ]
  },
  {
   "cell_type": "code",
   "execution_count": 43,
   "id": "ce943b64",
   "metadata": {
    "ExecuteTime": {
     "end_time": "2022-06-19T15:15:03.572127Z",
     "start_time": "2022-06-19T15:15:03.549813Z"
    }
   },
   "outputs": [
    {
     "data": {
      "text/plain": [
       "0.23129251700680273"
      ]
     },
     "execution_count": 43,
     "metadata": {},
     "output_type": "execute_result"
    }
   ],
   "source": [
    "len(df[(df.parsed_place=='Indonesia')&(df.tsunami==1)])/len(df[(df.parsed_place=='Indonesia')])"
   ]
  },
  {
   "cell_type": "code",
   "execution_count": 44,
   "id": "b192cb94",
   "metadata": {
    "ExecuteTime": {
     "end_time": "2022-06-19T15:15:03.777235Z",
     "start_time": "2022-06-19T15:15:03.765697Z"
    }
   },
   "outputs": [
    {
     "data": {
      "text/plain": [
       "0.23129251700680273"
      ]
     },
     "execution_count": 44,
     "metadata": {},
     "output_type": "execute_result"
    }
   ],
   "source": [
    "df[(df.parsed_place=='Indonesia')].tsunami.value_counts(normalize=True)[1]"
   ]
  },
  {
   "cell_type": "markdown",
   "id": "80510034",
   "metadata": {
    "ExecuteTime": {
     "end_time": "2022-06-19T15:10:58.694398Z",
     "start_time": "2022-06-19T15:10:58.688193Z"
    }
   },
   "source": [
    "# exercise3"
   ]
  },
  {
   "cell_type": "code",
   "execution_count": 45,
   "id": "ee55235e",
   "metadata": {
    "ExecuteTime": {
     "end_time": "2022-06-19T15:15:04.648104Z",
     "start_time": "2022-06-19T15:15:04.579430Z"
    }
   },
   "outputs": [
    {
     "data": {
      "text/html": [
       "<div>\n",
       "<style scoped>\n",
       "    .dataframe tbody tr th:only-of-type {\n",
       "        vertical-align: middle;\n",
       "    }\n",
       "\n",
       "    .dataframe tbody tr th {\n",
       "        vertical-align: top;\n",
       "    }\n",
       "\n",
       "    .dataframe thead th {\n",
       "        text-align: right;\n",
       "    }\n",
       "</style>\n",
       "<table border=\"1\" class=\"dataframe\">\n",
       "  <thead>\n",
       "    <tr style=\"text-align: right;\">\n",
       "      <th></th>\n",
       "      <th>cdi</th>\n",
       "      <th>dmin</th>\n",
       "      <th>felt</th>\n",
       "      <th>gap</th>\n",
       "      <th>mag</th>\n",
       "      <th>mmi</th>\n",
       "      <th>nst</th>\n",
       "      <th>rms</th>\n",
       "      <th>sig</th>\n",
       "      <th>time</th>\n",
       "      <th>tsunami</th>\n",
       "      <th>tz</th>\n",
       "      <th>updated</th>\n",
       "    </tr>\n",
       "  </thead>\n",
       "  <tbody>\n",
       "    <tr>\n",
       "      <th>count</th>\n",
       "      <td>15.000000</td>\n",
       "      <td>681.000000</td>\n",
       "      <td>15.000000</td>\n",
       "      <td>681.000000</td>\n",
       "      <td>681.000000</td>\n",
       "      <td>1.00</td>\n",
       "      <td>681.000000</td>\n",
       "      <td>681.000000</td>\n",
       "      <td>681.000000</td>\n",
       "      <td>6.810000e+02</td>\n",
       "      <td>681.0</td>\n",
       "      <td>681.0</td>\n",
       "      <td>6.810000e+02</td>\n",
       "    </tr>\n",
       "    <tr>\n",
       "      <th>mean</th>\n",
       "      <td>2.440000</td>\n",
       "      <td>0.166199</td>\n",
       "      <td>2.400000</td>\n",
       "      <td>153.668120</td>\n",
       "      <td>0.500073</td>\n",
       "      <td>2.84</td>\n",
       "      <td>12.618209</td>\n",
       "      <td>0.151986</td>\n",
       "      <td>10.970631</td>\n",
       "      <td>1.538314e+12</td>\n",
       "      <td>0.0</td>\n",
       "      <td>-480.0</td>\n",
       "      <td>1.538402e+12</td>\n",
       "    </tr>\n",
       "    <tr>\n",
       "      <th>std</th>\n",
       "      <td>0.501142</td>\n",
       "      <td>0.166228</td>\n",
       "      <td>4.626013</td>\n",
       "      <td>68.735302</td>\n",
       "      <td>0.696710</td>\n",
       "      <td>NaN</td>\n",
       "      <td>9.866963</td>\n",
       "      <td>0.084662</td>\n",
       "      <td>19.607150</td>\n",
       "      <td>5.965637e+08</td>\n",
       "      <td>0.0</td>\n",
       "      <td>0.0</td>\n",
       "      <td>6.010951e+08</td>\n",
       "    </tr>\n",
       "    <tr>\n",
       "      <th>min</th>\n",
       "      <td>2.000000</td>\n",
       "      <td>0.001000</td>\n",
       "      <td>1.000000</td>\n",
       "      <td>29.140000</td>\n",
       "      <td>-0.500000</td>\n",
       "      <td>2.84</td>\n",
       "      <td>3.000000</td>\n",
       "      <td>0.000500</td>\n",
       "      <td>0.000000</td>\n",
       "      <td>1.537247e+12</td>\n",
       "      <td>0.0</td>\n",
       "      <td>-480.0</td>\n",
       "      <td>1.537307e+12</td>\n",
       "    </tr>\n",
       "    <tr>\n",
       "      <th>25%</th>\n",
       "      <td>2.000000</td>\n",
       "      <td>0.053000</td>\n",
       "      <td>1.000000</td>\n",
       "      <td>97.380000</td>\n",
       "      <td>-0.100000</td>\n",
       "      <td>2.84</td>\n",
       "      <td>6.000000</td>\n",
       "      <td>0.106900</td>\n",
       "      <td>0.000000</td>\n",
       "      <td>1.537854e+12</td>\n",
       "      <td>0.0</td>\n",
       "      <td>-480.0</td>\n",
       "      <td>1.537928e+12</td>\n",
       "    </tr>\n",
       "    <tr>\n",
       "      <th>50%</th>\n",
       "      <td>2.200000</td>\n",
       "      <td>0.112000</td>\n",
       "      <td>1.000000</td>\n",
       "      <td>149.140000</td>\n",
       "      <td>0.400000</td>\n",
       "      <td>2.84</td>\n",
       "      <td>10.000000</td>\n",
       "      <td>0.146300</td>\n",
       "      <td>2.000000</td>\n",
       "      <td>1.538280e+12</td>\n",
       "      <td>0.0</td>\n",
       "      <td>-480.0</td>\n",
       "      <td>1.538428e+12</td>\n",
       "    </tr>\n",
       "    <tr>\n",
       "      <th>75%</th>\n",
       "      <td>2.900000</td>\n",
       "      <td>0.233000</td>\n",
       "      <td>1.000000</td>\n",
       "      <td>199.720000</td>\n",
       "      <td>0.900000</td>\n",
       "      <td>2.84</td>\n",
       "      <td>16.000000</td>\n",
       "      <td>0.187100</td>\n",
       "      <td>12.000000</td>\n",
       "      <td>1.538821e+12</td>\n",
       "      <td>0.0</td>\n",
       "      <td>-480.0</td>\n",
       "      <td>1.538878e+12</td>\n",
       "    </tr>\n",
       "    <tr>\n",
       "      <th>max</th>\n",
       "      <td>3.300000</td>\n",
       "      <td>1.414000</td>\n",
       "      <td>19.000000</td>\n",
       "      <td>355.910000</td>\n",
       "      <td>2.900000</td>\n",
       "      <td>2.84</td>\n",
       "      <td>61.000000</td>\n",
       "      <td>0.863400</td>\n",
       "      <td>129.000000</td>\n",
       "      <td>1.539461e+12</td>\n",
       "      <td>0.0</td>\n",
       "      <td>-480.0</td>\n",
       "      <td>1.539483e+12</td>\n",
       "    </tr>\n",
       "  </tbody>\n",
       "</table>\n",
       "</div>"
      ],
      "text/plain": [
       "             cdi        dmin       felt         gap         mag   mmi  \\\n",
       "count  15.000000  681.000000  15.000000  681.000000  681.000000  1.00   \n",
       "mean    2.440000    0.166199   2.400000  153.668120    0.500073  2.84   \n",
       "std     0.501142    0.166228   4.626013   68.735302    0.696710   NaN   \n",
       "min     2.000000    0.001000   1.000000   29.140000   -0.500000  2.84   \n",
       "25%     2.000000    0.053000   1.000000   97.380000   -0.100000  2.84   \n",
       "50%     2.200000    0.112000   1.000000  149.140000    0.400000  2.84   \n",
       "75%     2.900000    0.233000   1.000000  199.720000    0.900000  2.84   \n",
       "max     3.300000    1.414000  19.000000  355.910000    2.900000  2.84   \n",
       "\n",
       "              nst         rms         sig          time  tsunami     tz  \\\n",
       "count  681.000000  681.000000  681.000000  6.810000e+02    681.0  681.0   \n",
       "mean    12.618209    0.151986   10.970631  1.538314e+12      0.0 -480.0   \n",
       "std      9.866963    0.084662   19.607150  5.965637e+08      0.0    0.0   \n",
       "min      3.000000    0.000500    0.000000  1.537247e+12      0.0 -480.0   \n",
       "25%      6.000000    0.106900    0.000000  1.537854e+12      0.0 -480.0   \n",
       "50%     10.000000    0.146300    2.000000  1.538280e+12      0.0 -480.0   \n",
       "75%     16.000000    0.187100   12.000000  1.538821e+12      0.0 -480.0   \n",
       "max     61.000000    0.863400  129.000000  1.539461e+12      0.0 -480.0   \n",
       "\n",
       "            updated  \n",
       "count  6.810000e+02  \n",
       "mean   1.538402e+12  \n",
       "std    6.010951e+08  \n",
       "min    1.537307e+12  \n",
       "25%    1.537928e+12  \n",
       "50%    1.538428e+12  \n",
       "75%    1.538878e+12  \n",
       "max    1.539483e+12  "
      ]
     },
     "execution_count": 45,
     "metadata": {},
     "output_type": "execute_result"
    }
   ],
   "source": [
    "df[df.parsed_place=='Nevada'].describe()"
   ]
  },
  {
   "cell_type": "markdown",
   "id": "bd1be4a5",
   "metadata": {},
   "source": [
    "# excercise4"
   ]
  },
  {
   "cell_type": "code",
   "execution_count": 87,
   "id": "09cd12ab",
   "metadata": {
    "ExecuteTime": {
     "end_time": "2022-06-19T15:36:00.771893Z",
     "start_time": "2022-06-19T15:36:00.759949Z"
    }
   },
   "outputs": [],
   "source": [
    "ringFire = ['Bolivia', \n",
    "            'Chile', \n",
    "            'Ecuador', \n",
    "            'Peru', \n",
    "            'Costa Rica', \n",
    "            'Guatemala', \n",
    "            '^Mexico' ,#(be careful not to select New Mexico)\n",
    "            'Japan',\n",
    "            'Philippines', \n",
    "            'Indonesia', \n",
    "            'New Zealand', \n",
    "            'Antarctic', #(look for Antarctic), \n",
    "            'Canada', \n",
    "            'Fiji', \n",
    "            'Alaska', \n",
    "            'Washington', \n",
    "            'California', \n",
    "            'Russia', \n",
    "            'Taiwan', \n",
    "            'Tonga', \n",
    "            'Kermadec Islands']"
   ]
  },
  {
   "cell_type": "code",
   "execution_count": 89,
   "id": "342d6707",
   "metadata": {
    "ExecuteTime": {
     "end_time": "2022-06-19T15:36:17.119846Z",
     "start_time": "2022-06-19T15:36:17.097992Z"
    }
   },
   "outputs": [],
   "source": [
    "df['ringFire']=df.parsed_place.str.contains(\"|\".join(ringFire))"
   ]
  },
  {
   "cell_type": "code",
   "execution_count": 94,
   "id": "f5f16695",
   "metadata": {
    "ExecuteTime": {
     "end_time": "2022-06-19T15:36:56.218153Z",
     "start_time": "2022-06-19T15:36:56.168611Z"
    }
   },
   "outputs": [
    {
     "data": {
      "text/plain": [
       "['Alaska',\n",
       " 'Bolivia',\n",
       " 'California',\n",
       " 'Canada',\n",
       " 'Chile',\n",
       " 'Costa Rica',\n",
       " 'Ecuador',\n",
       " 'Fiji',\n",
       " 'Guatemala',\n",
       " 'Indonesia',\n",
       " 'Japan',\n",
       " 'Kermadec Islands',\n",
       " 'Mexico',\n",
       " 'New Zealand',\n",
       " 'Pacific-Antarctic Ridge',\n",
       " 'Peru',\n",
       " 'Philippines',\n",
       " 'Russia',\n",
       " 'Taiwan',\n",
       " 'Tonga',\n",
       " 'Washington',\n",
       " 'Western Indian-Antarctic Ridge']"
      ]
     },
     "execution_count": 94,
     "metadata": {},
     "output_type": "execute_result"
    }
   ],
   "source": [
    "sorted(df[df.ringFire].parsed_place.unique())"
   ]
  },
  {
   "cell_type": "markdown",
   "id": "5cc674b0",
   "metadata": {},
   "source": [
    "# exercise5"
   ]
  },
  {
   "cell_type": "code",
   "execution_count": 95,
   "id": "fe7e72e8",
   "metadata": {
    "ExecuteTime": {
     "end_time": "2022-06-19T15:37:56.357837Z",
     "start_time": "2022-06-19T15:37:56.341063Z"
    }
   },
   "outputs": [
    {
     "data": {
      "text/plain": [
       "True     7188\n",
       "False    2144\n",
       "Name: ringFire, dtype: int64"
      ]
     },
     "execution_count": 95,
     "metadata": {},
     "output_type": "execute_result"
    }
   ],
   "source": [
    "df.ringFire.value_counts()"
   ]
  },
  {
   "cell_type": "markdown",
   "id": "eb68476a",
   "metadata": {},
   "source": [
    "# exercise6"
   ]
  },
  {
   "cell_type": "code",
   "execution_count": 96,
   "id": "9569eda4",
   "metadata": {
    "ExecuteTime": {
     "end_time": "2022-06-19T15:38:37.660243Z",
     "start_time": "2022-06-19T15:38:37.645294Z"
    }
   },
   "outputs": [
    {
     "data": {
      "text/plain": [
       "0    7143\n",
       "1      45\n",
       "Name: tsunami, dtype: int64"
      ]
     },
     "execution_count": 96,
     "metadata": {},
     "output_type": "execute_result"
    }
   ],
   "source": [
    "df[df.ringFire].tsunami.value_counts()"
   ]
  },
  {
   "cell_type": "code",
   "execution_count": null,
   "id": "25837722",
   "metadata": {},
   "outputs": [],
   "source": []
  }
 ],
 "metadata": {
  "kernelspec": {
   "display_name": "Python 3",
   "language": "python",
   "name": "python3"
  },
  "language_info": {
   "codemirror_mode": {
    "name": "ipython",
    "version": 3
   },
   "file_extension": ".py",
   "mimetype": "text/x-python",
   "name": "python",
   "nbconvert_exporter": "python",
   "pygments_lexer": "ipython3",
   "version": "3.8.1"
  },
  "toc": {
   "base_numbering": 1,
   "nav_menu": {},
   "number_sections": true,
   "sideBar": true,
   "skip_h1_title": false,
   "title_cell": "Table of Contents",
   "title_sidebar": "Contents",
   "toc_cell": false,
   "toc_position": {},
   "toc_section_display": true,
   "toc_window_display": false
  }
 },
 "nbformat": 4,
 "nbformat_minor": 5
}
